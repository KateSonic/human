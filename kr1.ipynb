{
 "cells": [
  {
   "cell_type": "code",
   "execution_count": 11,
   "id": "d8aef997-2877-471c-bf3b-c1e132fd0161",
   "metadata": {},
   "outputs": [
    {
     "data": {
      "text/plain": [
       "np.float64(-2.2685388023205624)"
      ]
     },
     "execution_count": 11,
     "metadata": {},
     "output_type": "execute_result"
    }
   ],
   "source": [
    "import numpy as np\n",
    "\n",
    "x1 = np.array([2.89, 3.26, 2.52, 2.41, 3.28, 2.17, 2.57, 1.67, 3.04, 2.90])\n",
    "x2 = np.array([3.34, 2.86, 3.26, 3.14, 2.97, 3.23, 2.97, 3.04, 2.87, 2.73])\n",
    "\n",
    "a1 = x1.mean()\n",
    "b1 = x2.mean()\n",
    "\n",
    "a2 = x1.std()\n",
    "b2 = x2.std()\n",
    "\n",
    "a3 = x1.var()\n",
    "b3 = x2.var()\n",
    "\n",
    "res = (a1 - b1)/(a3/10 + b3/10)**0.5\n",
    "res"
   ]
  },
  {
   "cell_type": "code",
   "execution_count": null,
   "id": "d8f4b8b9-830d-4982-a60a-feb114539783",
   "metadata": {},
   "outputs": [],
   "source": []
  }
 ],
 "metadata": {
  "kernelspec": {
   "display_name": "Python 3 (ipykernel)",
   "language": "python",
   "name": "python3"
  },
  "language_info": {
   "codemirror_mode": {
    "name": "ipython",
    "version": 3
   },
   "file_extension": ".py",
   "mimetype": "text/x-python",
   "name": "python",
   "nbconvert_exporter": "python",
   "pygments_lexer": "ipython3",
   "version": "3.12.7"
  }
 },
 "nbformat": 4,
 "nbformat_minor": 5
}
